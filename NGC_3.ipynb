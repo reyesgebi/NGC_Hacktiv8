{
 "cells": [
  {
   "cell_type": "code",
   "execution_count": 22,
   "metadata": {},
   "outputs": [],
   "source": [
    "def converter_suhu(Cels=None, Kelv=None):\n",
    "\tif Cels != None and Kelv != None :\n",
    "\t\tF_C = 1.8*Cels + 32\n",
    "\t\tF_K = 1.8*(Kelv - 273) + 32\n",
    "\t\treturn print(f'Suhu Fahrenheit dari Celsius = {F_C} \\nSuhu Fahrenheit dari Kelvin = {F_K}')\n",
    "\telif Kelv == None :\n",
    "\t\tK_C = Cels + 273\n",
    "\t\tF_C = 1.8*Cels + 32\n",
    "\t\treturn print(f'Suhu Kelvin dari Celsius = {K_C} \\nSuhu Fahrenheit dari Celsius = {F_C}')\n",
    "\telif Cels == None :\n",
    "\t\tC_K = Kelv + 273\n",
    "\t\tF_K = 1.8*(Kelv - 273) + 32\n",
    "\t\treturn print(f'Suhu Celsius dari Kelvin = {K_C} \\nSuhu Fahrenheit dari Kelvin = {F_K}')"
   ]
  }
 ],
 "metadata": {
  "kernelspec": {
   "display_name": "H8",
   "language": "python",
   "name": "python3"
  },
  "language_info": {
   "codemirror_mode": {
    "name": "ipython",
    "version": 3
   },
   "file_extension": ".py",
   "mimetype": "text/x-python",
   "name": "python",
   "nbconvert_exporter": "python",
   "pygments_lexer": "ipython3",
   "version": "3.8.16"
  },
  "orig_nbformat": 4,
  "vscode": {
   "interpreter": {
    "hash": "e804ed984368f84cf5c927e10c0bc8e6845ba264ae6320b7e91d2795630efb93"
   }
  }
 },
 "nbformat": 4,
 "nbformat_minor": 2
}
